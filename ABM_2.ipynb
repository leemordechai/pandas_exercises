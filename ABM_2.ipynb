{
  "nbformat": 4,
  "nbformat_minor": 0,
  "metadata": {
    "colab": {
      "name": "ABM_2.ipynb",
      "version": "0.3.2",
      "provenance": [],
      "collapsed_sections": [],
      "include_colab_link": true
    },
    "kernelspec": {
      "name": "python3",
      "display_name": "Python 3"
    }
  },
  "cells": [
    {
      "cell_type": "markdown",
      "metadata": {
        "id": "view-in-github",
        "colab_type": "text"
      },
      "source": [
        "<a href=\"https://colab.research.google.com/github/leemordechai/pandas_exercises/blob/master/ABM_2.ipynb\" target=\"_parent\"><img src=\"https://colab.research.google.com/assets/colab-badge.svg\" alt=\"Open In Colab\"/></a>"
      ]
    },
    {
      "metadata": {
        "id": "MXBBGBA4Rb67",
        "colab_type": "code",
        "colab": {}
      },
      "cell_type": "code",
      "source": [
        "!pip install mesa"
      ],
      "execution_count": 0,
      "outputs": []
    },
    {
      "metadata": {
        "id": "843unVYAReaR",
        "colab_type": "code",
        "colab": {},
        "cellView": "both"
      },
      "cell_type": "code",
      "source": [
        "import pandas as pd\n",
        "import mesa\n",
        "import random\n",
        "import matplotlib.pyplot as plt\n",
        "%matplotlib inline"
      ],
      "execution_count": 0,
      "outputs": []
    },
    {
      "metadata": {
        "id": "NwNRqvNTRlNA",
        "colab_type": "code",
        "colab": {},
        "cellView": "form"
      },
      "cell_type": "code",
      "source": [
        "#@title\n",
        "from mesa import Agent, Model\n",
        "from mesa.time import RandomActivation\n",
        "\n",
        "class MoneyAgent(Agent):\n",
        "  def __init__(self, unique_id, model):\n",
        "    super().__init__(unique_id, model)\n",
        "    self.wealth = 1\n",
        "    \n",
        "  def step(self):\n",
        "    if self.wealth == 0:\n",
        "      return\n",
        "    other_agent = random.choice(self.model.schedule.agents)\n",
        "    other_agent.wealth += 1\n",
        "    self.wealth -= 1    \n",
        "\n",
        "class MoneyModel(Model):\n",
        "  def __init__(self, N):\n",
        "    self.num_agents = N\n",
        "    self.schedule = RandomActivation(self)\n",
        "    for i in range(self.num_agents):\n",
        "      a = MoneyAgent(i, self)\n",
        "      self.schedule.add(a)\n",
        "      \n",
        "  def step(self):\n",
        "    self.schedule.step()"
      ],
      "execution_count": 0,
      "outputs": []
    },
    {
      "metadata": {
        "id": "ajP3rDZmSbp-",
        "colab_type": "code",
        "colab": {},
        "cellView": "form"
      },
      "cell_type": "code",
      "source": [
        "#@title\n",
        "model = MoneyModel(10)\n",
        "for i in range(10):\n",
        "  model.step()"
      ],
      "execution_count": 0,
      "outputs": []
    },
    {
      "metadata": {
        "id": "k62a27gxS05d",
        "colab_type": "code",
        "outputId": "8c484d5d-6b56-4c96-a452-dc307c3e7af8",
        "colab": {
          "base_uri": "https://localhost:8080/",
          "height": 316
        },
        "cellView": "form"
      },
      "cell_type": "code",
      "source": [
        "#@title\n",
        "agent_wealth = [a.wealth for a in model.schedule.agents]\n",
        "plt.hist(agent_wealth)"
      ],
      "execution_count": 7,
      "outputs": [
        {
          "output_type": "execute_result",
          "data": {
            "text/plain": [
              "(array([4., 0., 0., 3., 0., 0., 2., 0., 0., 1.]),\n",
              " array([0. , 0.3, 0.6, 0.9, 1.2, 1.5, 1.8, 2.1, 2.4, 2.7, 3. ]),\n",
              " <a list of 10 Patch objects>)"
            ]
          },
          "metadata": {
            "tags": []
          },
          "execution_count": 7
        },
        {
          "output_type": "display_data",
          "data": {
            "image/png": "[encoded data removed]",
            "text/plain": [
              "<Figure size 432x288 with 1 Axes>"
            ]
          },
          "metadata": {
            "tags": []
          }
        }
      ]
    },
    {
      "metadata": {
        "id": "we_zHVS1UAaD",
        "colab_type": "code",
        "outputId": "fa75e5cc-f4c8-4f11-fa7d-029202f11160",
        "colab": {
          "base_uri": "https://localhost:8080/",
          "height": 333
        },
        "cellView": "form"
      },
      "cell_type": "code",
      "source": [
        "#@title\n",
        "all_wealth = []\n",
        "for j in range(1000):\n",
        "  model = MoneyModel(10)\n",
        "  for i in range(10):\n",
        "    model.step()\n",
        "    \n",
        "    for agent in model.schedule.agents:\n",
        "      all_wealth.append(agent.wealth)\n",
        "\n",
        "plt.hist(all_wealth, bins=range(max(all_wealth)+1))"
      ],
      "execution_count": 8,
      "outputs": [
        {
          "output_type": "execute_result",
          "data": {
            "text/plain": [
              "(array([4.1575e+04, 3.1793e+04, 1.6412e+04, 6.7780e+03, 2.4710e+03,\n",
              "        7.2000e+02, 2.0000e+02, 4.4000e+01, 7.0000e+00]),\n",
              " array([0, 1, 2, 3, 4, 5, 6, 7, 8, 9]),\n",
              " <a list of 9 Patch objects>)"
            ]
          },
          "metadata": {
            "tags": []
          },
          "execution_count": 8
        },
        {
          "output_type": "display_data",
          "data": {
            "image/png": "[encoded data removed]",
            "text/plain": [
              "<Figure size 432x288 with 1 Axes>"
            ]
          },
          "metadata": {
            "tags": []
          }
        }
      ]
    },
    {
      "metadata": {
        "id": "M0SSaD_0UlIo",
        "colab_type": "code",
        "colab": {},
        "cellView": "form"
      },
      "cell_type": "code",
      "source": [
        "#@title\n",
        "from mesa.space import MultiGrid\n",
        "from mesa.datacollection import DataCollector\n",
        "\n",
        "class MoneyModel(Model):\n",
        "  def __init__(self, N, width, height):\n",
        "    self.num_agents = N\n",
        "    self.grid = MultiGrid(width, height, True) # True here refers to wrap\n",
        "    self.schedule = RandomActivation(self)\n",
        "    self.running = True #this is for batch running\n",
        "\n",
        "    for i in range(self.num_agents):\n",
        "      a = MoneyAgent(i, self)\n",
        "      self.schedule.add(a)\n",
        "\n",
        "      x = random.randrange(self.grid.width)\n",
        "      y = random.randrange(self.grid.height)\n",
        "      self.grid.place_agent(a, (x, y))\n",
        "      \n",
        "    self.datacollector = DataCollector(model_reporters={\"Gini\": compute_gini},\n",
        "                                      agent_reporters={\"Wealth\":\"wealth\"})\n",
        "    \n",
        "  def step(self):\n",
        "    self.datacollector.collect(self)\n",
        "    self.schedule.step()  \n",
        "    \n",
        "\n",
        "class MoneyAgent(Agent):\n",
        "  def __init__(self, unique_id, model):\n",
        "    super().__init__(unique_id, model)\n",
        "    self.wealth = 1\n",
        "    \n",
        "  def step(self):\n",
        "    self.move()\n",
        "    if self.wealth > 0:\n",
        "      self.give_money()\n",
        "  \n",
        "  def move(self):\n",
        "    possible_steps = self.model.grid.get_neighborhood(self.pos, moore=True, include_center=False)\n",
        "    # Moore=True includes diagonal movement\n",
        "    new_position = random.choice(possible_steps)\n",
        "    self.model.grid.move_agent(self, new_position)\n",
        "  \n",
        "  def give_money(self):\n",
        "    cellmates = self.model.grid.get_cell_list_contents([self.pos])\n",
        "    if len(cellmates) > 1:\n",
        "      other = random.choice(cellmates)\n",
        "      other.wealth += 1\n",
        "      self.wealth -= 1\n",
        "      #print(str(self.unique_id) + \" gave money to \" + str(other.unique_id))\n",
        "      \n",
        "  #calculate Gini\n",
        "def compute_gini(model): \n",
        "  agent_wealths = [agent.wealth for agent in model.schedule.agents]\n",
        "  x = sorted(agent_wealths)\n",
        "  N = model.num_agents\n",
        "  B = sum(xi * (N-i) for i,xi in enumerate(x) ) / (N*sum(x))\n",
        "  return (1+(1/N)-2*B)"
      ],
      "execution_count": 0,
      "outputs": []
    },
    {
      "metadata": {
        "id": "YS218Zj8Mvtt",
        "colab_type": "code",
        "colab": {},
        "cellView": "form"
      },
      "cell_type": "code",
      "source": [
        "#@title\n",
        "model = MoneyModel(50, 10, 10)\n",
        "for i in range(100):\n",
        "  model.step()"
      ],
      "execution_count": 0,
      "outputs": []
    },
    {
      "metadata": {
        "id": "qbyKmnpBM26P",
        "colab_type": "code",
        "outputId": "d70ae6d2-4a21-448f-81bb-085b997a7bc8",
        "colab": {
          "base_uri": "https://localhost:8080/",
          "height": 282
        },
        "cellView": "form"
      },
      "cell_type": "code",
      "source": [
        "#@title\n",
        "gini = model.datacollector.get_model_vars_dataframe()\n",
        "gini.plot()"
      ],
      "execution_count": 11,
      "outputs": [
        {
          "output_type": "execute_result",
          "data": {
            "text/plain": [
              "<matplotlib.axes._subplots.AxesSubplot at 0x7f274d36df60>"
            ]
          },
          "metadata": {
            "tags": []
          },
          "execution_count": 11
        },
        {
          "output_type": "display_data",
          "data": {
            "image/png": "[encoded data removed]",
            "text/plain": [
              "<Figure size 432x288 with 1 Axes>"
            ]
          },
          "metadata": {
            "tags": []
          }
        }
      ]
    },
    {
      "metadata": {
        "id": "4gJJMFNCNlaG",
        "colab_type": "code",
        "colab": {
          "base_uri": "https://localhost:8080/",
          "height": 180
        },
        "cellView": "form",
        "outputId": "bc0785fc-b0bb-498b-ffc6-cef1edcdf312"
      },
      "cell_type": "code",
      "source": [
        "#@title\n",
        "model.datacollector.get_agent_vars_dataframe().head()\n",
        "agent_wealth = model.datacollector.get_agent_vars_dataframe()"
      ],
      "execution_count": 143,
      "outputs": [
        {
          "output_type": "error",
          "ename": "AttributeError",
          "evalue": "ignored",
          "traceback": [
            "\u001b[0;31m---------------------------------------------------------------------------\u001b[0m",
            "\u001b[0;31mAttributeError\u001b[0m                            Traceback (most recent call last)",
            "\u001b[0;32m<ipython-input-143-462d2e9ee645>\u001b[0m in \u001b[0;36m<module>\u001b[0;34m()\u001b[0m\n\u001b[0;32m----> 1\u001b[0;31m \u001b[0mmodel\u001b[0m\u001b[0;34m.\u001b[0m\u001b[0mdatacollector\u001b[0m\u001b[0;34m.\u001b[0m\u001b[0mget_agent_vars_dataframe\u001b[0m\u001b[0;34m(\u001b[0m\u001b[0;34m)\u001b[0m\u001b[0;34m.\u001b[0m\u001b[0mhead\u001b[0m\u001b[0;34m(\u001b[0m\u001b[0;34m)\u001b[0m\u001b[0;34m\u001b[0m\u001b[0;34m\u001b[0m\u001b[0m\n\u001b[0m\u001b[1;32m      2\u001b[0m \u001b[0magent_wealth\u001b[0m \u001b[0;34m=\u001b[0m \u001b[0mmodel\u001b[0m\u001b[0;34m.\u001b[0m\u001b[0mdatacollector\u001b[0m\u001b[0;34m.\u001b[0m\u001b[0mget_agent_vars_dataframe\u001b[0m\u001b[0;34m(\u001b[0m\u001b[0;34m)\u001b[0m\u001b[0;34m\u001b[0m\u001b[0;34m\u001b[0m\u001b[0m\n",
            "\u001b[0;31mAttributeError\u001b[0m: 'LifeModel' object has no attribute 'datacollector'"
          ]
        }
      ]
    },
    {
      "metadata": {
        "id": "uAbYhPYEOU7H",
        "colab_type": "code",
        "outputId": "2dd5ab8a-28da-4eec-b241-2c90bc1bed42",
        "colab": {
          "base_uri": "https://localhost:8080/",
          "height": 282
        },
        "cellView": "form"
      },
      "cell_type": "code",
      "source": [
        "#@title\n",
        "end_wealth = agent_wealth.xs(99, level=\"Step\")[\"Wealth\"]\n",
        "end_wealth.hist(bins=range(agent_wealth.Wealth.max()+1))"
      ],
      "execution_count": 13,
      "outputs": [
        {
          "output_type": "execute_result",
          "data": {
            "text/plain": [
              "<matplotlib.axes._subplots.AxesSubplot at 0x7f274d20a908>"
            ]
          },
          "metadata": {
            "tags": []
          },
          "execution_count": 13
        },
        {
          "output_type": "display_data",
          "data": {
            "image/png": "[encoded data removed]",
            "text/plain": [
              "<Figure size 432x288 with 1 Axes>"
            ]
          },
          "metadata": {
            "tags": []
          }
        }
      ]
    },
    {
      "metadata": {
        "id": "3ht2t_uZPEoV",
        "colab_type": "code",
        "outputId": "96f301af-77f1-4752-9afb-23300e711111",
        "colab": {
          "base_uri": "https://localhost:8080/",
          "height": 296
        },
        "cellView": "form"
      },
      "cell_type": "code",
      "source": [
        "#@title\n",
        "one_agent_wealth = agent_wealth.xs(1,level=\"AgentID\")\n",
        "one_agent_wealth.plot()"
      ],
      "execution_count": 14,
      "outputs": [
        {
          "output_type": "execute_result",
          "data": {
            "text/plain": [
              "<matplotlib.axes._subplots.AxesSubplot at 0x7f274d1adcc0>"
            ]
          },
          "metadata": {
            "tags": []
          },
          "execution_count": 14
        },
        {
          "output_type": "display_data",
          "data": {
            "image/png": "[encoded data removed]",
            "text/plain": [
              "<Figure size 432x288 with 1 Axes>"
            ]
          },
          "metadata": {
            "tags": []
          }
        }
      ]
    },
    {
      "metadata": {
        "id": "ckxTgbTVPd58",
        "colab_type": "code",
        "colab": {},
        "cellView": "form"
      },
      "cell_type": "code",
      "source": [
        "#@title\n",
        "from mesa.batchrunner import BatchRunner\n",
        "\n",
        "fixed_params = {\"width\": 10,\n",
        "                \"height\": 10}\n",
        "variable_params = {\"N\": range(10, 500, 10)}\n",
        "\n",
        "batch_run = BatchRunner(MoneyModel,\n",
        "                        fixed_parameters=fixed_params,\n",
        "                        variable_parameters=variable_params,\n",
        "                        iterations=5,\n",
        "                        max_steps=100,\n",
        "                        model_reporters={\"Gini\": compute_gini})\n",
        "#batch_run.run_all()"
      ],
      "execution_count": 0,
      "outputs": []
    },
    {
      "metadata": {
        "id": "XxYtgAGnSlqH",
        "colab_type": "code",
        "colab": {
          "base_uri": "https://localhost:8080/",
          "height": 282
        },
        "cellView": "form",
        "outputId": "fead4a4a-42b6-4cad-a2f4-153fbe5bccb9"
      },
      "cell_type": "code",
      "source": [
        "#@title\n",
        "run_data = batch_run.get_model_vars_dataframe() #returns a df\n",
        "#run_data.head()\n",
        "plt.scatter(run_data.N, run_data.Gini) # scatterplot of two columns in it"
      ],
      "execution_count": 16,
      "outputs": [
        {
          "output_type": "execute_result",
          "data": {
            "text/plain": [
              "<matplotlib.collections.PathCollection at 0x7f274d0cac88>"
            ]
          },
          "metadata": {
            "tags": []
          },
          "execution_count": 16
        },
        {
          "output_type": "display_data",
          "data": {
            "image/png": "[encoded data removed]",
            "text/plain": [
              "<Figure size 432x288 with 1 Axes>"
            ]
          },
          "metadata": {
            "tags": []
          }
        }
      ]
    },
    {
      "metadata": {
        "id": "7pkIq8uZSpkw",
        "colab_type": "code",
        "colab": {},
        "cellView": "form"
      },
      "cell_type": "code",
      "source": [
        "#@title\n"
      ],
      "execution_count": 0,
      "outputs": []
    },
    {
      "metadata": {
        "id": "C3-w_t2WUpv5",
        "colab_type": "code",
        "colab": {},
        "cellView": "form"
      },
      "cell_type": "code",
      "source": [
        "#@title\n",
        "model = MoneyModel(9, 3, 3)\n",
        "for i in range(1):\n",
        "  model.step()"
      ],
      "execution_count": 0,
      "outputs": []
    },
    {
      "metadata": {
        "id": "9qzSsm3XYVAD",
        "colab_type": "code",
        "outputId": "7e5f7886-0d00-45ee-8176-927a160930a0",
        "colab": {
          "base_uri": "https://localhost:8080/",
          "height": 286
        },
        "cellView": "form"
      },
      "cell_type": "code",
      "source": [
        "#@title\n",
        "import numpy as np\n",
        "agent_counts = np.zeros((model.grid.width, model.grid.height))\n",
        "for cell in model.grid.coord_iter():\n",
        "  cell_content, x, y = cell\n",
        "  agent_count = len(cell_content)\n",
        "  agent_counts[x][y] = agent_count\n",
        "plt.imshow(agent_counts, interpolation='nearest')\n",
        "plt.colorbar()"
      ],
      "execution_count": 18,
      "outputs": [
        {
          "output_type": "execute_result",
          "data": {
            "text/plain": [
              "<matplotlib.colorbar.Colorbar at 0x7f274bed05f8>"
            ]
          },
          "metadata": {
            "tags": []
          },
          "execution_count": 18
        },
        {
          "output_type": "display_data",
          "data": {
            "image/png": "[encoded data removed]",
            "text/plain": [
              "<Figure size 432x288 with 2 Axes>"
            ]
          },
          "metadata": {
            "tags": []
          }
        }
      ]
    },
    {
      "metadata": {
        "id": "f6qV6YLaYsqI",
        "colab_type": "code",
        "colab": {}
      },
      "cell_type": "code",
      "source": [
        "from mesa import Agent, Model # for basics\n",
        "from mesa.time import SimultaneousActivation # scheduler\n",
        "from mesa.space import SingleGrid # for grid\n",
        "from mesa.datacollection import DataCollector # for collecting data\n",
        "import time\n",
        "\n",
        "class LifeModel(Model):\n",
        "  def __init__(self, N, width, height):\n",
        "    self.running = True\n",
        "    self.num_agents = N\n",
        "    self.width = width\n",
        "    self.height = height\n",
        "    self.grid = SingleGrid(width, height, True)\n",
        "    self.schedule = SimultaneousActivation(self)\n",
        "    self.num_alive = N\n",
        "    self.avg_age = N / (width * height)\n",
        "    self.avg_living_age = 1\n",
        "    \n",
        "    for i in range(self.num_agents):\n",
        "      a = CellAgent(i, True, self)\n",
        "      a.current_fate = 'birth'\n",
        "      self.grid.place_agent(a, self.grid.find_empty())\n",
        "      self.schedule.add(a)\n",
        "    \n",
        "    i = self.num_agents\n",
        "    while self.grid.exists_empty_cells() == True:\n",
        "      a = CellAgent(i, False, self)\n",
        "      i += 1\n",
        "      self.grid.place_agent(a, self.grid.find_empty())\n",
        "      a.current_fate = 'death'\n",
        "      self.schedule.add(a)\n",
        "      \n",
        "  def step(self):\n",
        "    self.schedule.step()\n",
        "  \n",
        "  def advance(self):\n",
        "    self.schedule.advance()\n",
        "    \n",
        "  def alive_cells(self, feedback=False):\n",
        "    counter = 0\n",
        "    total_age = 0\n",
        "    for i in range(self.height):\n",
        "      for j in range(self.width):\n",
        "        if self.grid[i][j].alive == True: \n",
        "          counter += 1\n",
        "          total_age = self.grid[i][j].age\n",
        "    self.avg_age = total_age / (self.height * self.width)\n",
        "    if counter > 0:\n",
        "      self.avg_living_age = total_age / counter\n",
        "    else: self.avg_living_age = 0\n",
        "      \n",
        "    if feedback == True:\n",
        "      print('Number alive: ' + str(counter))\n",
        "    self.num_alive = counter\n",
        "    return self.num_alive\n",
        "  \n",
        "  def get_avg_age(self):\n",
        "    return self.avg_age\n",
        "  \n",
        "  def get_avg_living_age(self):\n",
        "    return self.avg_living_age\n",
        "         \n",
        "    \n",
        "class CellAgent(Agent):\n",
        "  def __init__(self, unique_id, alive, model):\n",
        "    self.unique_id = unique_id\n",
        "    self.model = model\n",
        "    self.alive = alive\n",
        "    self.current_fate = ''\n",
        "    if alive == True:\n",
        "      self.age = 1\n",
        "    else: self.age = 0\n",
        "  \n",
        "  def advance(self):\n",
        "    if self.current_fate == 'death': \n",
        "      self.alive = False\n",
        "      self.age = 0\n",
        "    elif self.current_fate == 'survival':\n",
        "      self.alive = True\n",
        "      self.age += 1\n",
        "    else: # == 'birth'\n",
        "      self.alive = True\n",
        "      self.age = 1    \n",
        "    #print(self.current_fate, self.alive)\n",
        "    \n",
        "  def step(self):\n",
        "    neighbors = self.model.grid.iter_neighbors(self.pos, True)\n",
        "    living_neighbors = sum([1 for i in neighbors if i.alive == True])\n",
        "    if self.alive == True:\n",
        "      if (living_neighbors > 3) or (living_neighbors < 2):\n",
        "        self.current_fate = 'death'\n",
        "      else:\n",
        "        self.current_fate = 'survival'        \n",
        "    elif living_neighbors == 3:\n",
        "      self.current_fate = 'birth'\n",
        "    #print(living_neighbors, self.current_fate, self.alive)"
      ],
      "execution_count": 0,
      "outputs": []
    },
    {
      "metadata": {
        "id": "bpT-GW2adP0k",
        "colab_type": "code",
        "colab": {}
      },
      "cell_type": "code",
      "source": [
        "def vis_model(m, secs=1):\n",
        "  hei = m.height\n",
        "  wid = m.width\n",
        "  df = [[0] * hei for i in range(wid)]\n",
        "  #pd.DataFrame(data=[[None for x in range(hei)] for x in range(wid)], columns=range(wid))\n",
        "  for i in range(hei):\n",
        "    for j in range(wid):\n",
        "      try:\n",
        "        df[i][j] = m.grid[i][j].alive\n",
        "      except:\n",
        "        print(i, j)\n",
        "  \n",
        "  fig = plt.figure()\n",
        "  ax = fig.gca()\n",
        "  ax.grid(False)\n",
        "  plt.imshow(df, interpolation='nearest')"
      ],
      "execution_count": 0,
      "outputs": []
    },
    {
      "metadata": {
        "id": "7yv9kT24c0ZF",
        "colab_type": "code",
        "outputId": "556f303a-ecb8-43d6-9151-0f6bd17ce920",
        "colab": {
          "base_uri": "https://localhost:8080/",
          "height": 282
        }
      },
      "cell_type": "code",
      "source": [
        "model = LifeModel(20,10,10)\n",
        "vis_model(model)\n",
        "model.alive_cells()"
      ],
      "execution_count": 113,
      "outputs": [
        {
          "output_type": "execute_result",
          "data": {
            "text/plain": [
              "20"
            ]
          },
          "metadata": {
            "tags": []
          },
          "execution_count": 113
        },
        {
          "output_type": "display_data",
          "data": {
            "image/png": "[encoded data removed]",
            "text/plain": [
              "<Figure size 432x288 with 1 Axes>"
            ]
          },
          "metadata": {
            "tags": []
          }
        }
      ]
    },
    {
      "metadata": {
        "id": "2Gdgwa2G4Izl",
        "colab_type": "code",
        "outputId": "61b3c593-39c7-44bc-ff74-94d927abbc7c",
        "colab": {
          "base_uri": "https://localhost:8080/",
          "height": 282
        }
      },
      "cell_type": "code",
      "source": [
        "model.alive_cells()\n",
        "model.step()\n",
        "vis_model(model)\n",
        "model.alive_cells()"
      ],
      "execution_count": 114,
      "outputs": [
        {
          "output_type": "execute_result",
          "data": {
            "text/plain": [
              "21"
            ]
          },
          "metadata": {
            "tags": []
          },
          "execution_count": 114
        },
        {
          "output_type": "display_data",
          "data": {
            "image/png": "[encoded data removed]",
            "text/plain": [
              "<Figure size 432x288 with 1 Axes>"
            ]
          },
          "metadata": {
            "tags": []
          }
        }
      ]
    },
    {
      "metadata": {
        "id": "JK95Dul-2V7s",
        "colab_type": "code",
        "colab": {
          "base_uri": "https://localhost:8080/",
          "height": 128
        },
        "outputId": "1f311733-f495-4390-8ab7-1daf73640bda"
      },
      "cell_type": "code",
      "source": [
        "generations = 100\n",
        "iterations = 5\n",
        "\n",
        "df = pd.DataFrame(index=range(generations))\n",
        "df_avg_ages = pd.DataFrame(index=range(generations))\n",
        "df_avg_living_ages = pd.DataFrame(index=range(generations))\n",
        "for i in range(iterations):\n",
        "  model = LifeModel(30,10,10)\n",
        "  survivors = [model.alive_cells()]\n",
        "  average_ages = [model.get_avg_age()]\n",
        "  average_living_ages = [model.get_avg_living_age()]\n",
        "  \n",
        "  for j in range(generations-1):\n",
        "    model.step()\n",
        "    survivors.append(model.alive_cells())\n",
        "    average_ages.append(model.get_avg_age())\n",
        "    average_living_ages.append(model.get_avg_living_age())\n",
        "                        \n",
        "  df[i] = survivors\n",
        "  df_avg_ages[i] = average_ages       \n",
        "  df_avg_living_ages[i] = average_living_ages\n",
        "                        \n",
        "  if i%10 == 0: print(\"Iteration \" + str(i))\n",
        "df.head(2)"
      ],
      "execution_count": 115,
      "outputs": [
        {
          "output_type": "stream",
          "text": [
            "Iteration 0\n"
          ],
          "name": "stdout"
        },
        {
          "output_type": "execute_result",
          "data": {
            "text/html": [
              "<div>\n",
              "<style scoped>\n",
              "    .dataframe tbody tr th:only-of-type {\n",
              "        vertical-align: middle;\n",
              "    }\n",
              "\n",
              "    .dataframe tbody tr th {\n",
              "        vertical-align: top;\n",
              "    }\n",
              "\n",
              "    .dataframe thead th {\n",
              "        text-align: right;\n",
              "    }\n",
              "</style>\n",
              "<table border=\"1\" class=\"dataframe\">\n",
              "  <thead>\n",
              "    <tr style=\"text-align: right;\">\n",
              "      <th></th>\n",
              "      <th>0</th>\n",
              "      <th>1</th>\n",
              "      <th>2</th>\n",
              "      <th>3</th>\n",
              "      <th>4</th>\n",
              "    </tr>\n",
              "  </thead>\n",
              "  <tbody>\n",
              "    <tr>\n",
              "      <th>0</th>\n",
              "      <td>30</td>\n",
              "      <td>30</td>\n",
              "      <td>30</td>\n",
              "      <td>30</td>\n",
              "      <td>30</td>\n",
              "    </tr>\n",
              "    <tr>\n",
              "      <th>1</th>\n",
              "      <td>33</td>\n",
              "      <td>31</td>\n",
              "      <td>33</td>\n",
              "      <td>43</td>\n",
              "      <td>36</td>\n",
              "    </tr>\n",
              "  </tbody>\n",
              "</table>\n",
              "</div>"
            ],
            "text/plain": [
              "    0   1   2   3   4\n",
              "0  30  30  30  30  30\n",
              "1  33  31  33  43  36"
            ]
          },
          "metadata": {
            "tags": []
          },
          "execution_count": 115
        }
      ]
    },
    {
      "metadata": {
        "id": "3pDoJqfB2iXQ",
        "colab_type": "code",
        "colab": {
          "base_uri": "https://localhost:8080/",
          "height": 265
        },
        "outputId": "d67065d1-f243-4968-91ea-5a9589335af3"
      },
      "cell_type": "code",
      "source": [
        "for col in df.columns:\n",
        "  plt.plot(range(generations), df[col])\n",
        "\n",
        "#for col in df_avg_living_ages.columns:\n",
        "#  plt.plot(range(generations), df_avg_living_ages[col])\n",
        "  \n",
        "#for col in df_avg_ages.columns:\n",
        "#  plt.plot(range(generations), df_avg_ages[col])"
      ],
      "execution_count": 116,
      "outputs": [
        {
          "output_type": "display_data",
          "data": {
            "image/png": "[encoded data removed]",
            "text/plain": [
              "<Figure size 432x288 with 1 Axes>"
            ]
          },
          "metadata": {
            "tags": []
          }
        }
      ]
    },
    {
      "metadata": {
        "id": "lL5oEU2Q-olj",
        "colab_type": "code",
        "colab": {
          "base_uri": "https://localhost:8080/",
          "height": 221
        },
        "outputId": "d80bf666-d5fb-4c76-9feb-9fb1105c568b"
      },
      "cell_type": "code",
      "source": [
        "from mesa.batchrunner import BatchRunner\n",
        "\n",
        "generations = 10\n",
        "iterations = 20\n",
        "\n",
        "fixed_params = {\"width\": 10, \"height\": 10}\n",
        "variable_params = {\"N\": range(10, 80)}\n",
        "\n",
        "batch_run = BatchRunner(LifeModel,\n",
        "                       fixed_parameters = fixed_params,\n",
        "                       variable_parameters = variable_params,\n",
        "                       iterations = iterations,\n",
        "                       max_steps = generations,\n",
        "                       model_reporters= {\"Survivors\":LifeModel.alive_cells})\n",
        "\n",
        "batch_run.run_all()\n",
        "run_data = batch_run.get_model_vars_dataframe()\n",
        "run_data.head(2)"
      ],
      "execution_count": 141,
      "outputs": [
        {
          "output_type": "stream",
          "text": [
            "1400it [00:40, 34.92it/s]\n"
          ],
          "name": "stderr"
        },
        {
          "output_type": "execute_result",
          "data": {
            "text/html": [
              "<div>\n",
              "<style scoped>\n",
              "    .dataframe tbody tr th:only-of-type {\n",
              "        vertical-align: middle;\n",
              "    }\n",
              "\n",
              "    .dataframe tbody tr th {\n",
              "        vertical-align: top;\n",
              "    }\n",
              "\n",
              "    .dataframe thead th {\n",
              "        text-align: right;\n",
              "    }\n",
              "</style>\n",
              "<table border=\"1\" class=\"dataframe\">\n",
              "  <thead>\n",
              "    <tr style=\"text-align: right;\">\n",
              "      <th></th>\n",
              "      <th>N</th>\n",
              "      <th>Run</th>\n",
              "      <th>Survivors</th>\n",
              "      <th>width</th>\n",
              "      <th>height</th>\n",
              "    </tr>\n",
              "  </thead>\n",
              "  <tbody>\n",
              "    <tr>\n",
              "      <th>0</th>\n",
              "      <td>10</td>\n",
              "      <td>0</td>\n",
              "      <td>3</td>\n",
              "      <td>10</td>\n",
              "      <td>10</td>\n",
              "    </tr>\n",
              "    <tr>\n",
              "      <th>1</th>\n",
              "      <td>10</td>\n",
              "      <td>1</td>\n",
              "      <td>0</td>\n",
              "      <td>10</td>\n",
              "      <td>10</td>\n",
              "    </tr>\n",
              "    <tr>\n",
              "      <th>2</th>\n",
              "      <td>10</td>\n",
              "      <td>2</td>\n",
              "      <td>0</td>\n",
              "      <td>10</td>\n",
              "      <td>10</td>\n",
              "    </tr>\n",
              "    <tr>\n",
              "      <th>3</th>\n",
              "      <td>10</td>\n",
              "      <td>3</td>\n",
              "      <td>36</td>\n",
              "      <td>10</td>\n",
              "      <td>10</td>\n",
              "    </tr>\n",
              "    <tr>\n",
              "      <th>4</th>\n",
              "      <td>10</td>\n",
              "      <td>4</td>\n",
              "      <td>0</td>\n",
              "      <td>10</td>\n",
              "      <td>10</td>\n",
              "    </tr>\n",
              "  </tbody>\n",
              "</table>\n",
              "</div>"
            ],
            "text/plain": [
              "    N  Run  Survivors  width  height\n",
              "0  10    0          3     10      10\n",
              "1  10    1          0     10      10\n",
              "2  10    2          0     10      10\n",
              "3  10    3         36     10      10\n",
              "4  10    4          0     10      10"
            ]
          },
          "metadata": {
            "tags": []
          },
          "execution_count": 141
        }
      ]
    },
    {
      "metadata": {
        "id": "Di2KBtLOEQcO",
        "colab_type": "code",
        "colab": {
          "base_uri": "https://localhost:8080/",
          "height": 282
        },
        "outputId": "02d87d2f-e248-40a3-cb86-760558b96ad9"
      },
      "cell_type": "code",
      "source": [
        "# optimal number for survival in Life environments\n",
        "plt.scatter(run_data.N, run_data.Survivors, alpha=0.55)\n",
        "line_data = run_data.groupby(['N']).mean()\n",
        "plt.scatter(line_data.index, line_data['Survivors'], c='r')"
      ],
      "execution_count": 142,
      "outputs": [
        {
          "output_type": "execute_result",
          "data": {
            "text/plain": [
              "<matplotlib.collections.PathCollection at 0x7f274c59aa58>"
            ]
          },
          "metadata": {
            "tags": []
          },
          "execution_count": 142
        },
        {
          "output_type": "display_data",
          "data": {
            "image/png": "[encoded data removed]",
            "text/plain": [
              "<Figure size 432x288 with 1 Axes>"
            ]
          },
          "metadata": {
            "tags": []
          }
        }
      ]
    }
  ]
}